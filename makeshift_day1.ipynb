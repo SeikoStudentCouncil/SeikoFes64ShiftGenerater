{
 "cells": [
  {
   "cell_type": "code",
   "execution_count": null,
   "metadata": {},
   "outputs": [],
   "source": [
    "import pandas as pd\n",
    "# ファイル読み込み\n",
    "departments = pd.read_csv('input/departments.csv')\n",
    "example = pd.read_csv('input/example.csv')\n",
    "job = pd.read_csv('input/jobs.csv')\n",
    "time1 = pd.read_csv('input/time1.csv',index_col='job')\n",
    "exhibition1 = pd.read_csv('input/exhibition1.csv')\n",
    "# departments.dfとtime.dfとexhibition.dfの列をすべて整数に変換 欠損値は0に変換\n",
    "departments = departments.apply(pd.to_numeric, errors='coerce').fillna(0).astype(int)\n",
    "time1 = time1.apply(pd.to_numeric, errors='coerce').fillna(0).astype(int)\n",
    "exhibition1 = exhibition1.fillna(0)"
   ]
  },
  {
   "cell_type": "code",
   "execution_count": null,
   "metadata": {},
   "outputs": [],
   "source": [
    "department = []\n",
    "for j in time1.index.to_list():\n",
    "    t = 0\n",
    "    for col in job:\n",
    "        if j in job[col].to_list():\n",
    "            department.append(col)\n",
    "            t +=1\n",
    "    if t >1:\n",
    "        print(j)\n",
    "# 仕事名と部門名を対応させる\n",
    "time1[\"department\"] = department"
   ]
  },
  {
   "cell_type": "code",
   "execution_count": null,
   "metadata": {},
   "outputs": [],
   "source": [
    "# 学籍番号を並べる\n",
    "ids = []\n",
    "for col in departments.columns:\n",
    "    ids.extend(departments[col].to_list())\n",
    "ids.extend(exhibition1['member'].to_list())\n",
    "ids = list(set(ids))\n",
    "ids.remove(0)\n",
    "ids.sort()\n",
    "print(ids)\n",
    "# #dfの余計な数字削除\n",
    "# ids = [i for i in ids if i > 60000]\n",
    "\n",
    "# 横軸時間と縦軸学籍番号の中身が空の表output\n",
    "output = pd.DataFrame(index=pd.Series(ids).dropna(),columns=time1.columns).fillna(0)"
   ]
  },
  {
   "cell_type": "code",
   "execution_count": null,
   "metadata": {},
   "outputs": [],
   "source": [
    "#keyをids,valueはすべて0のdictを作成\n",
    "d = dict.fromkeys(ids,0)"
   ]
  },
  {
   "cell_type": "code",
   "execution_count": null,
   "metadata": {},
   "outputs": [],
   "source": [
    "import random\n",
    "import tqdm\n",
    "import numpy as np\n",
    "\n",
    "exhibitionmember1 = exhibition1['member'].to_list()\n",
    "cols = time1.columns.to_list()\n",
    "cols.remove(\"department\")\n",
    "\n",
    "# シフト割り振り\n",
    "for j in time1.index.to_list():\n",
    "    for t in cols:\n",
    "        # 必要な人数people\n",
    "        people = time1.loc[j,t]\n",
    "        # 部門名dp\n",
    "        dp = time1.loc[j,\"department\"]\n",
    "        #コピーリスト作成\n",
    "        # candidates = departments[dp].to_list().copy()\n",
    "        for i in range(int(people)):\n",
    "            while True:\n",
    "                cid = random.choice(departments[dp].to_list())\n",
    "                if cid == 0:\n",
    "                    continue\n",
    "                if output.loc[cid,t] != 0:\n",
    "                    continue\n",
    "                if cid in exhibitionmember1:\n",
    "                    if exhibition1.loc[exhibitionmember1.index(cid),cols[cols.index(t)]] != 0:\n",
    "                        continue\n",
    "                if d[cid] < 100:\n",
    "                    break\n",
    "            d[cid] +=1\n",
    "            # candidates.remove(cid)\n",
    "            output.loc[cid,t] = j"
   ]
  },
  {
   "cell_type": "code",
   "execution_count": null,
   "metadata": {},
   "outputs": [],
   "source": [
    "# # time1から部門名の列を消す\n",
    "# time =  time.drop('department', axis=1)\n",
    "# # 事前に入力したデータをoutputに入力\n",
    "# for m in exhibition1.index:\n",
    "#     for n in time.columns:\n",
    "#         print(exhibition1['member'][m],n)\n",
    "#         print(exhibition1.loc[exhibition1['member'][m],n])\n",
    "# output"
   ]
  },
  {
   "cell_type": "code",
   "execution_count": null,
   "metadata": {},
   "outputs": [],
   "source": [
    "output"
   ]
  },
  {
   "cell_type": "code",
   "execution_count": null,
   "metadata": {},
   "outputs": [],
   "source": [
    "output.to_csv(\"output.csv\")"
   ]
  }
 ],
 "metadata": {
  "kernelspec": {
   "display_name": "base",
   "language": "python",
   "name": "python3"
  },
  "language_info": {
   "codemirror_mode": {
    "name": "ipython",
    "version": 3
   },
   "file_extension": ".py",
   "mimetype": "text/x-python",
   "name": "python",
   "nbconvert_exporter": "python",
   "pygments_lexer": "ipython3",
   "version": "3.9.16"
  },
  "orig_nbformat": 4
 },
 "nbformat": 4,
 "nbformat_minor": 2
}
